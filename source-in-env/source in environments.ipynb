{
 "cells": [
  {
   "cell_type": "markdown",
   "metadata": {},
   "source": [
    "## Source in environments\n",
    "\n",
    "Dit voorbeeld laat zien hoe je losse componenten kunt sources, zonder gelijk je global environment te vervuilen met vanalles en nog wat.\n",
    "\n",
    "Dit voorbeeld bevat niet alleen dit Jupyter Notebook, maar ook [een extern script (`it-component.R`)](it-component.R) dat we gaan source'en.\n",
    "\n",
    "Alleereerst laden we het component (dit is iets ingewikkelder dan alleen `source`):"
   ]
  },
  {
   "cell_type": "code",
   "execution_count": 1,
   "metadata": {},
   "outputs": [
    {
     "name": "stderr",
     "output_type": "stream",
     "text": [
      "\n",
      "Attaching package: ‘dplyr’\n",
      "\n",
      "The following objects are masked from ‘package:stats’:\n",
      "\n",
      "    filter, lag\n",
      "\n",
      "The following objects are masked from ‘package:base’:\n",
      "\n",
      "    intersect, setdiff, setequal, union\n",
      "\n"
     ]
    }
   ],
   "source": [
    "it_component <- environment(source('it-component.R', new.env())$value)"
   ]
  },
  {
   "cell_type": "markdown",
   "metadata": {},
   "source": [
    "Met `ls(...)` kunnen we zien welke functies allemaal beschikbaar zijn in dit 'component':"
   ]
  },
  {
   "cell_type": "code",
   "execution_count": 2,
   "metadata": {},
   "outputs": [
    {
     "data": {
      "text/html": [
       "<ol class=list-inline>\n",
       "\t<li>'add_to_it'</li>\n",
       "\t<li>'create_it'</li>\n",
       "\t<li>'get_it'</li>\n",
       "\t<li>'remove_it'</li>\n",
       "</ol>\n"
      ],
      "text/latex": [
       "\\begin{enumerate*}\n",
       "\\item 'add\\_to\\_it'\n",
       "\\item 'create\\_it'\n",
       "\\item 'get\\_it'\n",
       "\\item 'remove\\_it'\n",
       "\\end{enumerate*}\n"
      ],
      "text/markdown": [
       "1. 'add_to_it'\n",
       "2. 'create_it'\n",
       "3. 'get_it'\n",
       "4. 'remove_it'\n",
       "\n",
       "\n"
      ],
      "text/plain": [
       "[1] \"add_to_it\" \"create_it\" \"get_it\"    \"remove_it\""
      ]
     },
     "metadata": {},
     "output_type": "display_data"
    }
   ],
   "source": [
    "ls(it_component)"
   ]
  },
  {
   "cell_type": "markdown",
   "metadata": {},
   "source": [
    "We kunnen de functies van het component zo gebruiken:"
   ]
  },
  {
   "cell_type": "code",
   "execution_count": 3,
   "metadata": {},
   "outputs": [
    {
     "name": "stdout",
     "output_type": "stream",
     "text": [
      "[1] 3\n"
     ]
    }
   ],
   "source": [
    "it_component$create_it(0)\n",
    "it_component$add_to_it()\n",
    "it_component$add_to_it()\n",
    "it_component$add_to_it()\n",
    "print(it_component$get_it())"
   ]
  },
  {
   "cell_type": "markdown",
   "metadata": {},
   "source": [
    "Het component houdt z'n eigen _state_ bij, die-ie zelf kan resetten:"
   ]
  },
  {
   "cell_type": "code",
   "execution_count": 4,
   "metadata": {},
   "outputs": [
    {
     "name": "stdout",
     "output_type": "stream",
     "text": [
      "NULL\n"
     ]
    }
   ],
   "source": [
    "it_component$remove_it()\n",
    "print(it_component$get_it())"
   ]
  },
  {
   "cell_type": "code",
   "execution_count": null,
   "metadata": {},
   "outputs": [],
   "source": []
  }
 ],
 "metadata": {
  "kernelspec": {
   "display_name": "R",
   "language": "R",
   "name": "ir"
  },
  "language_info": {
   "codemirror_mode": "r",
   "file_extension": ".r",
   "mimetype": "text/x-r-source",
   "name": "R",
   "pygments_lexer": "r",
   "version": "3.3.2"
  }
 },
 "nbformat": 4,
 "nbformat_minor": 2
}
